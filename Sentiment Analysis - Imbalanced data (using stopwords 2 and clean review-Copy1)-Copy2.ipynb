{
 "cells": [
  {
   "cell_type": "markdown",
   "metadata": {},
   "source": [
    "# Target = 'Rating'"
   ]
  },
  {
   "cell_type": "code",
   "execution_count": 195,
   "metadata": {},
   "outputs": [],
   "source": [
    "import numpy as np\n",
    "import pandas as pd \n",
    "import matplotlib.pyplot as plt\n",
    "import seaborn as sns"
   ]
  },
  {
   "cell_type": "code",
   "execution_count": 196,
   "metadata": {},
   "outputs": [],
   "source": [
    "data = pd.read_csv('womens-clothing-clean-2.csv', index_col=0)"
   ]
  },
  {
   "cell_type": "code",
   "execution_count": 197,
   "metadata": {},
   "outputs": [
    {
     "data": {
      "text/html": [
       "<div>\n",
       "<style scoped>\n",
       "    .dataframe tbody tr th:only-of-type {\n",
       "        vertical-align: middle;\n",
       "    }\n",
       "\n",
       "    .dataframe tbody tr th {\n",
       "        vertical-align: top;\n",
       "    }\n",
       "\n",
       "    .dataframe thead th {\n",
       "        text-align: right;\n",
       "    }\n",
       "</style>\n",
       "<table border=\"1\" class=\"dataframe\">\n",
       "  <thead>\n",
       "    <tr style=\"text-align: right;\">\n",
       "      <th></th>\n",
       "      <th>Clothing ID</th>\n",
       "      <th>Age</th>\n",
       "      <th>Review Text</th>\n",
       "      <th>Rating</th>\n",
       "      <th>Recommended IND</th>\n",
       "      <th>Positive Feedback Count</th>\n",
       "      <th>Division Name</th>\n",
       "      <th>Department Name</th>\n",
       "      <th>Class Name</th>\n",
       "    </tr>\n",
       "  </thead>\n",
       "  <tbody>\n",
       "    <tr>\n",
       "      <th>0</th>\n",
       "      <td>767</td>\n",
       "      <td>33</td>\n",
       "      <td>Absolutely wonderful - silky and sexy and comf...</td>\n",
       "      <td>4</td>\n",
       "      <td>1</td>\n",
       "      <td>0</td>\n",
       "      <td>Initmates</td>\n",
       "      <td>Intimate</td>\n",
       "      <td>Intimates</td>\n",
       "    </tr>\n",
       "  </tbody>\n",
       "</table>\n",
       "</div>"
      ],
      "text/plain": [
       "   Clothing ID  Age                                        Review Text  \\\n",
       "0          767   33  Absolutely wonderful - silky and sexy and comf...   \n",
       "\n",
       "   Rating  Recommended IND  Positive Feedback Count Division Name  \\\n",
       "0       4                1                        0     Initmates   \n",
       "\n",
       "  Department Name Class Name  \n",
       "0        Intimate  Intimates  "
      ]
     },
     "execution_count": 197,
     "metadata": {},
     "output_type": "execute_result"
    }
   ],
   "source": [
    "data.head(1)"
   ]
  },
  {
   "cell_type": "markdown",
   "metadata": {},
   "source": [
    "# Clean Review"
   ]
  },
  {
   "cell_type": "code",
   "execution_count": 198,
   "metadata": {},
   "outputs": [],
   "source": [
    "import re"
   ]
  },
  {
   "cell_type": "code",
   "execution_count": 199,
   "metadata": {},
   "outputs": [],
   "source": [
    "def clean_text(x):\n",
    "    letter_only=re.sub(\"[^a-zA-Z]\", \" \", x)\n",
    "    return ' '.join(letter_only.split())"
   ]
  },
  {
   "cell_type": "code",
   "execution_count": 200,
   "metadata": {},
   "outputs": [],
   "source": [
    "data['Clean Review']=data['Review Text'].apply(clean_text)"
   ]
  },
  {
   "cell_type": "code",
   "execution_count": 201,
   "metadata": {},
   "outputs": [
    {
     "data": {
      "text/html": [
       "<div>\n",
       "<style scoped>\n",
       "    .dataframe tbody tr th:only-of-type {\n",
       "        vertical-align: middle;\n",
       "    }\n",
       "\n",
       "    .dataframe tbody tr th {\n",
       "        vertical-align: top;\n",
       "    }\n",
       "\n",
       "    .dataframe thead th {\n",
       "        text-align: right;\n",
       "    }\n",
       "</style>\n",
       "<table border=\"1\" class=\"dataframe\">\n",
       "  <thead>\n",
       "    <tr style=\"text-align: right;\">\n",
       "      <th></th>\n",
       "      <th>Clothing ID</th>\n",
       "      <th>Age</th>\n",
       "      <th>Review Text</th>\n",
       "      <th>Rating</th>\n",
       "      <th>Recommended IND</th>\n",
       "      <th>Positive Feedback Count</th>\n",
       "      <th>Division Name</th>\n",
       "      <th>Department Name</th>\n",
       "      <th>Class Name</th>\n",
       "      <th>Clean Review</th>\n",
       "    </tr>\n",
       "  </thead>\n",
       "  <tbody>\n",
       "    <tr>\n",
       "      <th>0</th>\n",
       "      <td>767</td>\n",
       "      <td>33</td>\n",
       "      <td>Absolutely wonderful - silky and sexy and comf...</td>\n",
       "      <td>4</td>\n",
       "      <td>1</td>\n",
       "      <td>0</td>\n",
       "      <td>Initmates</td>\n",
       "      <td>Intimate</td>\n",
       "      <td>Intimates</td>\n",
       "      <td>Absolutely wonderful silky and sexy and comfor...</td>\n",
       "    </tr>\n",
       "    <tr>\n",
       "      <th>1</th>\n",
       "      <td>1080</td>\n",
       "      <td>34</td>\n",
       "      <td>Love this dress!  it's sooo pretty.  i happene...</td>\n",
       "      <td>5</td>\n",
       "      <td>1</td>\n",
       "      <td>4</td>\n",
       "      <td>General</td>\n",
       "      <td>Dresses</td>\n",
       "      <td>Dresses</td>\n",
       "      <td>Love this dress it s sooo pretty i happened to...</td>\n",
       "    </tr>\n",
       "    <tr>\n",
       "      <th>2</th>\n",
       "      <td>1077</td>\n",
       "      <td>60</td>\n",
       "      <td>I had such high hopes for this dress and reall...</td>\n",
       "      <td>3</td>\n",
       "      <td>0</td>\n",
       "      <td>0</td>\n",
       "      <td>General</td>\n",
       "      <td>Dresses</td>\n",
       "      <td>Dresses</td>\n",
       "      <td>I had such high hopes for this dress and reall...</td>\n",
       "    </tr>\n",
       "    <tr>\n",
       "      <th>3</th>\n",
       "      <td>1049</td>\n",
       "      <td>50</td>\n",
       "      <td>I love, love, love this jumpsuit. it's fun, fl...</td>\n",
       "      <td>5</td>\n",
       "      <td>1</td>\n",
       "      <td>0</td>\n",
       "      <td>General Petite</td>\n",
       "      <td>Bottoms</td>\n",
       "      <td>Pants</td>\n",
       "      <td>I love love love this jumpsuit it s fun flirty...</td>\n",
       "    </tr>\n",
       "    <tr>\n",
       "      <th>4</th>\n",
       "      <td>847</td>\n",
       "      <td>47</td>\n",
       "      <td>This shirt is very flattering to all due to th...</td>\n",
       "      <td>5</td>\n",
       "      <td>1</td>\n",
       "      <td>6</td>\n",
       "      <td>General</td>\n",
       "      <td>Tops</td>\n",
       "      <td>Blouses</td>\n",
       "      <td>This shirt is very flattering to all due to th...</td>\n",
       "    </tr>\n",
       "  </tbody>\n",
       "</table>\n",
       "</div>"
      ],
      "text/plain": [
       "   Clothing ID  Age                                        Review Text  \\\n",
       "0          767   33  Absolutely wonderful - silky and sexy and comf...   \n",
       "1         1080   34  Love this dress!  it's sooo pretty.  i happene...   \n",
       "2         1077   60  I had such high hopes for this dress and reall...   \n",
       "3         1049   50  I love, love, love this jumpsuit. it's fun, fl...   \n",
       "4          847   47  This shirt is very flattering to all due to th...   \n",
       "\n",
       "   Rating  Recommended IND  Positive Feedback Count   Division Name  \\\n",
       "0       4                1                        0       Initmates   \n",
       "1       5                1                        4         General   \n",
       "2       3                0                        0         General   \n",
       "3       5                1                        0  General Petite   \n",
       "4       5                1                        6         General   \n",
       "\n",
       "  Department Name Class Name  \\\n",
       "0        Intimate  Intimates   \n",
       "1         Dresses    Dresses   \n",
       "2         Dresses    Dresses   \n",
       "3         Bottoms      Pants   \n",
       "4            Tops    Blouses   \n",
       "\n",
       "                                        Clean Review  \n",
       "0  Absolutely wonderful silky and sexy and comfor...  \n",
       "1  Love this dress it s sooo pretty i happened to...  \n",
       "2  I had such high hopes for this dress and reall...  \n",
       "3  I love love love this jumpsuit it s fun flirty...  \n",
       "4  This shirt is very flattering to all due to th...  "
      ]
     },
     "execution_count": 201,
     "metadata": {},
     "output_type": "execute_result"
    }
   ],
   "source": [
    "data.head()"
   ]
  },
  {
   "cell_type": "markdown",
   "metadata": {},
   "source": [
    "# Adding Sentiment Features based on the ratings"
   ]
  },
  {
   "cell_type": "code",
   "execution_count": 202,
   "metadata": {},
   "outputs": [],
   "source": [
    "def turn_into_sentiment(x):\n",
    "    if((x==1)|(x==2)|(x==3)):\n",
    "        return 'Worst'\n",
    "    else:\n",
    "        return 'Best'"
   ]
  },
  {
   "cell_type": "code",
   "execution_count": 203,
   "metadata": {},
   "outputs": [],
   "source": [
    "data['Sentiment'] = data['Rating'].apply(turn_into_sentiment)"
   ]
  },
  {
   "cell_type": "code",
   "execution_count": 204,
   "metadata": {},
   "outputs": [],
   "source": [
    "from sklearn.feature_extraction.text import TfidfVectorizer\n",
    "from sklearn.model_selection import train_test_split as tts"
   ]
  },
  {
   "cell_type": "code",
   "execution_count": 205,
   "metadata": {},
   "outputs": [],
   "source": [
    "from nltk.corpus import stopwords\n",
    "from collections import Counter"
   ]
  },
  {
   "cell_type": "code",
   "execution_count": 206,
   "metadata": {},
   "outputs": [],
   "source": [
    "stop = stopwords.words('english')"
   ]
  },
  {
   "cell_type": "code",
   "execution_count": 221,
   "metadata": {},
   "outputs": [],
   "source": [
    "stop_2 = ['dress', 'like', 'top', 'would', 'fabric', 'fit', 'size', 'small', 'look', 'love', \n",
    "               'back', 'ordered', 'really', 'color', 'much', 'shirt', 'one', 'wear', 'also','material','sweater']"
   ]
  },
  {
   "cell_type": "code",
   "execution_count": 222,
   "metadata": {},
   "outputs": [],
   "source": [
    "data['Without Stop Words']=data['Clean Review'].apply(lambda x: ' '.join([word for word in x.split() if word not in (stop) and word not in (stop_2)]))"
   ]
  },
  {
   "cell_type": "code",
   "execution_count": 223,
   "metadata": {},
   "outputs": [
    {
     "data": {
      "text/plain": [
       "'Absolutely wonderful silky and sexy and comfortable'"
      ]
     },
     "execution_count": 223,
     "metadata": {},
     "output_type": "execute_result"
    }
   ],
   "source": [
    "data['Clean Review'].iloc[0]"
   ]
  },
  {
   "cell_type": "code",
   "execution_count": 224,
   "metadata": {},
   "outputs": [
    {
     "data": {
      "text/plain": [
       "'Absolutely wonderful silky sexy comfortable'"
      ]
     },
     "execution_count": 224,
     "metadata": {},
     "output_type": "execute_result"
    }
   ],
   "source": [
    "data['Without Stop Words'].iloc[0]"
   ]
  },
  {
   "cell_type": "markdown",
   "metadata": {},
   "source": [
    "# Stemming"
   ]
  },
  {
   "cell_type": "code",
   "execution_count": 173,
   "metadata": {},
   "outputs": [],
   "source": [
    "# from nltk.stem.snowball import SnowballStemmer"
   ]
  },
  {
   "cell_type": "code",
   "execution_count": 174,
   "metadata": {},
   "outputs": [],
   "source": [
    "# stemmer = SnowballStemmer(\"english\")"
   ]
  },
  {
   "cell_type": "code",
   "execution_count": 175,
   "metadata": {},
   "outputs": [],
   "source": [
    "# data['stemmed'] = data['Without Stop Words'].str.split()"
   ]
  },
  {
   "cell_type": "code",
   "execution_count": 176,
   "metadata": {},
   "outputs": [],
   "source": [
    "# # stem every word.\n",
    "# data['stemmed'] = data['stemmed'].apply(lambda x: [stemmer.stem(y) for y in x])"
   ]
  },
  {
   "cell_type": "code",
   "execution_count": 177,
   "metadata": {},
   "outputs": [],
   "source": [
    "# # stemmed into string:\n",
    "# def stemmed_str(x):\n",
    "#     for item in x:\n",
    "#         return ' '.join(str(item) for item in x)"
   ]
  },
  {
   "cell_type": "code",
   "execution_count": 178,
   "metadata": {},
   "outputs": [],
   "source": [
    "# data['stemmed']=data['stemmed'].apply(stemmed_str)"
   ]
  },
  {
   "cell_type": "code",
   "execution_count": 179,
   "metadata": {},
   "outputs": [
    {
     "data": {
      "text/plain": [
       "'Love sooo pretty happened find store glad bc never online bc petite bought petite length hits little knee definitely true midi someone truly petite'"
      ]
     },
     "execution_count": 179,
     "metadata": {},
     "output_type": "execute_result"
    }
   ],
   "source": [
    "# data['Without Stop Words'].iloc[1]"
   ]
  },
  {
   "cell_type": "code",
   "execution_count": 180,
   "metadata": {},
   "outputs": [
    {
     "data": {
      "text/plain": [
       "'love sooo pretti happen find store glad bc never onlin bc petit bought petit length hit littl knee definit true midi someon truli petit'"
      ]
     },
     "execution_count": 180,
     "metadata": {},
     "output_type": "execute_result"
    }
   ],
   "source": [
    "# data['stemmed'].iloc[1]"
   ]
  },
  {
   "cell_type": "markdown",
   "metadata": {},
   "source": [
    "# Most Words Appear"
   ]
  },
  {
   "cell_type": "code",
   "execution_count": 225,
   "metadata": {},
   "outputs": [],
   "source": [
    "def show_most_words_appear(data):\n",
    "    all_words=\" \".join(filter(None, list(data)))\n",
    "    list_all_words=all_words.lower()\n",
    "    list_all_words = list_all_words.split()\n",
    "    word_count = Counter(list_all_words)\n",
    "    word_count_series=pd.Series(word_count)\n",
    "    most_words_appear =word_count_series.sort_values(ascending=False).head(10)\n",
    "    plt.figure(figsize=(15,5))\n",
    "    sns.barplot(most_words_appear.index, most_words_appear.values, palette='viridis')"
   ]
  },
  {
   "cell_type": "code",
   "execution_count": 226,
   "metadata": {},
   "outputs": [
    {
     "data": {
      "image/png": "[encoded data removed]",
      "text/plain": [
       "<Figure size 1080x360 with 1 Axes>"
      ]
     },
     "metadata": {
      "needs_background": "light"
     },
     "output_type": "display_data"
    }
   ],
   "source": [
    "show_most_words_appear(data[data['Sentiment']=='Worst']['Without Stop Words'])"
   ]
  },
  {
   "cell_type": "code",
   "execution_count": 214,
   "metadata": {},
   "outputs": [
    {
     "data": {
      "image/png": "[encoded data removed]",
      "text/plain": [
       "<Figure size 1080x360 with 1 Axes>"
      ]
     },
     "metadata": {
      "needs_background": "light"
     },
     "output_type": "display_data"
    }
   ],
   "source": [
    "show_most_words_appear(data[data['Sentiment']=='Best']['Without Stop Words'])"
   ]
  },
  {
   "cell_type": "markdown",
   "metadata": {},
   "source": [
    "# Handling Imbalanced Data"
   ]
  },
  {
   "cell_type": "code",
   "execution_count": 227,
   "metadata": {},
   "outputs": [
    {
     "data": {
      "text/plain": [
       "Best     0.774384\n",
       "Worst    0.225616\n",
       "Name: Sentiment, dtype: float64"
      ]
     },
     "execution_count": 227,
     "metadata": {},
     "output_type": "execute_result"
    }
   ],
   "source": [
    "data.Sentiment.value_counts(normalize=True)"
   ]
  },
  {
   "cell_type": "code",
   "execution_count": 228,
   "metadata": {},
   "outputs": [],
   "source": [
    "from sklearn.naive_bayes import MultinomialNB\n",
    "from sklearn.model_selection import train_test_split as tts\n",
    "from sklearn.metrics import classification_report"
   ]
  },
  {
   "cell_type": "code",
   "execution_count": 229,
   "metadata": {},
   "outputs": [],
   "source": [
    "from sklearn.linear_model import LogisticRegression\n",
    "from sklearn.tree import DecisionTreeClassifier \n",
    "from sklearn.ensemble import RandomForestClassifier, GradientBoostingClassifier"
   ]
  },
  {
   "cell_type": "code",
   "execution_count": 230,
   "metadata": {},
   "outputs": [],
   "source": [
    "from imblearn.over_sampling import RandomOverSampler\n",
    "from imblearn.over_sampling import SMOTE\n",
    "from sklearn.metrics import classification_report, accuracy_score, confusion_matrix"
   ]
  },
  {
   "cell_type": "code",
   "execution_count": 231,
   "metadata": {},
   "outputs": [],
   "source": [
    "from sklearn.metrics import confusion_matrix "
   ]
  },
  {
   "cell_type": "markdown",
   "metadata": {},
   "source": [
    "### Undersampling"
   ]
  },
  {
   "cell_type": "code",
   "execution_count": 233,
   "metadata": {},
   "outputs": [],
   "source": [
    "vectorizer = TfidfVectorizer()\n",
    "X_train,X_test,y_train,y_test = tts(vectorizer.fit_transform(data['Without Stop Words']),data['Sentiment'],random_state=101)"
   ]
  },
  {
   "cell_type": "code",
   "execution_count": 236,
   "metadata": {},
   "outputs": [
    {
     "name": "stderr",
     "output_type": "stream",
     "text": [
      "C:\\Users\\User\\Anaconda3\\lib\\site-packages\\sklearn\\linear_model\\logistic.py:433: FutureWarning: Default solver will be changed to 'lbfgs' in 0.22. Specify a solver to silence this warning.\n",
      "  FutureWarning)\n",
      "C:\\Users\\User\\Anaconda3\\lib\\site-packages\\sklearn\\ensemble\\forest.py:246: FutureWarning: The default value of n_estimators will change from 10 in version 0.20 to 100 in 0.22.\n",
      "  \"10 in version 0.20 to 100 in 0.22.\", FutureWarning)\n",
      "C:\\Users\\User\\Anaconda3\\lib\\site-packages\\sklearn\\linear_model\\logistic.py:433: FutureWarning: Default solver will be changed to 'lbfgs' in 0.22. Specify a solver to silence this warning.\n",
      "  FutureWarning)\n",
      "C:\\Users\\User\\Anaconda3\\lib\\site-packages\\sklearn\\ensemble\\forest.py:246: FutureWarning: The default value of n_estimators will change from 10 in version 0.20 to 100 in 0.22.\n",
      "  \"10 in version 0.20 to 100 in 0.22.\", FutureWarning)\n",
      "C:\\Users\\User\\Anaconda3\\lib\\site-packages\\sklearn\\linear_model\\logistic.py:433: FutureWarning: Default solver will be changed to 'lbfgs' in 0.22. Specify a solver to silence this warning.\n",
      "  FutureWarning)\n",
      "C:\\Users\\User\\Anaconda3\\lib\\site-packages\\sklearn\\ensemble\\forest.py:246: FutureWarning: The default value of n_estimators will change from 10 in version 0.20 to 100 in 0.22.\n",
      "  \"10 in version 0.20 to 100 in 0.22.\", FutureWarning)\n"
     ]
    }
   ],
   "source": [
    "#Test Scoring\n",
    "list_model = [MultinomialNB, LogisticRegression, DecisionTreeClassifier, RandomForestClassifier, GradientBoostingClassifier]\n",
    "index_model=['NaiveBayes Worst', 'NaiveBayes Best','LogisticRegression Worst','LogisticRegression Best','DecisionTreeClassifier Worst','DecisionTreeClassifier Best','RandomForestClassifier Worst','RandomForestClassifier Best','GradientBoostingClassifier Worst', 'GradientBoostingClassifier Best']\n",
    "\n",
    "#Undersampling:\n",
    "minority_data = data[data['Sentiment']=='Worst']\n",
    "mayority_data = data[data['Sentiment']=='Best']\n",
    "index_for_mayority = np.random.choice(mayority_data.index, len(minority_data))\n",
    "data_mayority = data.loc[index_for_mayority]\n",
    "undersampling_data = pd.concat([data_mayority, minority_data])\n",
    "\n",
    "US_precision = []\n",
    "US_recall = []\n",
    "for i,item in enumerate(list_model):\n",
    "    X_tr, X_ts, y_tr, y_ts=tts(vectorizer.fit_transform(undersampling_data['Clean Review']),undersampling_data['Sentiment'],random_state=101)\n",
    "    US_model=item()\n",
    "    US_model.fit(X_tr, y_tr)\n",
    "    US_predict=US_model.predict(X_ts)\n",
    "    US_predict_train=US_model.predict(X_tr)\n",
    "    aa=confusion_matrix(y_ts, US_predict)\n",
    "\n",
    "    #precision 0\n",
    "    pre_0=round((aa[0][0])/((aa[0][0])+(aa[1][0])),2)\n",
    "    US_precision.append(pre_0)\n",
    "\n",
    "    #precision 1(berasal dari true positif):\n",
    "    pre_1=round((aa[1][1])/((aa[1][1])+(aa[0][1])),2)\n",
    "    US_precision.append(pre_1)\n",
    "\n",
    "    #recall 0:\n",
    "    rec_0=round((aa[0][0])/((aa[0][0])+(aa[0][1])),2)\n",
    "    US_recall.append(rec_0)\n",
    "\n",
    "    #recall 1:\n",
    "    rec_1=(round((aa[1][1])/((aa[1][1])+(aa[1][0])),2))\n",
    "    US_recall.append(rec_1)\n",
    "US={'US precision':US_precision, 'US recall':US_recall}\n",
    "US=pd.DataFrame(US,index=index_model )\n",
    "\n",
    "\n",
    "#ROS :\n",
    "ROS_precision = []\n",
    "ROS_recall = []\n",
    "for i,item in enumerate(list_model):\n",
    "    ROS_model = item()\n",
    "    ros = RandomOverSampler(random_state=101)\n",
    "    X_ros, y_ros = ros.fit_sample(X_train,y_train)\n",
    "    ROS_model.fit(X_ros,y_ros)\n",
    "    ROS_predict_train=ROS_model.predict(X_ros)\n",
    "    ROS_predict=ROS_model.predict(X_test)\n",
    "    bb=confusion_matrix(y_test, ROS_predict)\n",
    "    \n",
    "    \n",
    "    #precision 0\n",
    "    pre_0=round((bb[0][0])/((bb[0][0])+(bb[1][0])),2)\n",
    "    ROS_precision.append(pre_0)\n",
    "\n",
    "    #precision 1(berasal dari true positif):\n",
    "    pre_1=round((bb[1][1])/((bb[1][1])+(bb[0][1])),2)\n",
    "    ROS_precision.append(pre_1)\n",
    "\n",
    "    #recall 0:\n",
    "    rec_0=round((bb[0][0])/((bb[0][0])+(bb[0][1])),2)\n",
    "    ROS_recall.append(rec_0)\n",
    "\n",
    "    #recall 1:\n",
    "    rec_1=(round((bb[1][1])/((bb[1][1])+(bb[1][0])),2))\n",
    "    ROS_recall.append(rec_1)\n",
    "    \n",
    "ROS={'ROS precision':ROS_precision, 'ROS recall':ROS_recall}\n",
    "ROS=pd.DataFrame(ROS,index=index_model )\n",
    "\n",
    "    \n",
    "#SMOTE :\n",
    "SMOTE_precision = []\n",
    "SMOTE_recall = []\n",
    "for i,item in enumerate(list_model):\n",
    "    SMOTE_model = item()\n",
    "    sm = SMOTE(random_state=101)\n",
    "    X_sm, y_sm = sm.fit_sample(X_train,y_train)\n",
    "    SMOTE_model.fit(X_sm,y_sm)\n",
    "    SMOTE_predict=SMOTE_model.predict(X_test)\n",
    "    SMOTE_predict_train=SMOTE_model.predict(X_sm)\n",
    "    cc=confusion_matrix(y_test, SMOTE_predict)\n",
    "    \n",
    "    \n",
    "    #precision 0\n",
    "    pre_0=round((cc[0][0])/((cc[0][0])+(cc[1][0])),2)\n",
    "    SMOTE_precision.append(pre_0)\n",
    "\n",
    "    #precision 1(berasal dari true positif):\n",
    "    pre_1=round((cc[1][1])/((cc[1][1])+(cc[0][1])),2)\n",
    "    SMOTE_precision.append(pre_1)\n",
    "\n",
    "    #recall 0:\n",
    "    rec_0=round((cc[0][0])/((cc[0][0])+(cc[0][1])),2)\n",
    "    SMOTE_recall.append(rec_0)\n",
    "\n",
    "    #recall 1:\n",
    "    rec_1=(round((cc[1][1])/((cc[1][1])+(cc[1][0])),2))\n",
    "    SMOTE_recall.append(rec_1)\n",
    "    \n",
    "SMOTE={'SMOTE precision':SMOTE_precision, 'SMOTE recall':SMOTE_recall}\n",
    "SMOTE=pd.DataFrame(SMOTE,index=index_model)"
   ]
  },
  {
   "cell_type": "code",
   "execution_count": 237,
   "metadata": {},
   "outputs": [
    {
     "data": {
      "text/html": [
       "<div>\n",
       "<style scoped>\n",
       "    .dataframe tbody tr th:only-of-type {\n",
       "        vertical-align: middle;\n",
       "    }\n",
       "\n",
       "    .dataframe tbody tr th {\n",
       "        vertical-align: top;\n",
       "    }\n",
       "\n",
       "    .dataframe thead th {\n",
       "        text-align: right;\n",
       "    }\n",
       "</style>\n",
       "<table border=\"1\" class=\"dataframe\">\n",
       "  <thead>\n",
       "    <tr style=\"text-align: right;\">\n",
       "      <th></th>\n",
       "      <th>Undersampling</th>\n",
       "      <th>RandomOverSampling</th>\n",
       "      <th>SMOTE</th>\n",
       "    </tr>\n",
       "  </thead>\n",
       "  <tbody>\n",
       "    <tr>\n",
       "      <th>Accuracy Train Score</th>\n",
       "      <td>0.846037</td>\n",
       "      <td>0.824368</td>\n",
       "      <td>0.873836</td>\n",
       "    </tr>\n",
       "    <tr>\n",
       "      <th>Accuracy Test Score</th>\n",
       "      <td>0.809253</td>\n",
       "      <td>0.790212</td>\n",
       "      <td>0.842916</td>\n",
       "    </tr>\n",
       "  </tbody>\n",
       "</table>\n",
       "</div>"
      ],
      "text/plain": [
       "                      Undersampling  RandomOverSampling     SMOTE\n",
       "Accuracy Train Score       0.846037            0.824368  0.873836\n",
       "Accuracy Test Score        0.809253            0.790212  0.842916"
      ]
     },
     "execution_count": 237,
     "metadata": {},
     "output_type": "execute_result"
    }
   ],
   "source": [
    "US_accuracytest = accuracy_score(y_ts, US_predict)\n",
    "ROS_accuracytest = accuracy_score(y_test, ROS_predict)\n",
    "SMOTE_accuracytest=accuracy_score(y_test, SMOTE_predict)\n",
    "\n",
    "US_accuracytrain = accuracy_score(y_tr, US_predict_train)\n",
    "ROS_accuracytrain = accuracy_score(y_ros, ROS_predict_train)\n",
    "SMOTE_accuracytrain=accuracy_score(y_sm, SMOTE_predict_train)\n",
    "\n",
    "\n",
    "accuracy_train = [US_accuracytrain,ROS_accuracytrain,SMOTE_accuracytrain]\n",
    "accuracy_test = [US_accuracytest, ROS_accuracytest, SMOTE_accuracytest]\n",
    "accuracy = [accuracy_train, accuracy_test]\n",
    "pd.DataFrame(data=accuracy, columns=['Undersampling', 'RandomOverSampling', 'SMOTE'], index=['Accuracy Train Score', 'Accuracy Test Score'])"
   ]
  },
  {
   "cell_type": "code",
   "execution_count": 238,
   "metadata": {},
   "outputs": [
    {
     "data": {
      "text/html": [
       "<div>\n",
       "<style scoped>\n",
       "    .dataframe tbody tr th:only-of-type {\n",
       "        vertical-align: middle;\n",
       "    }\n",
       "\n",
       "    .dataframe tbody tr th {\n",
       "        vertical-align: top;\n",
       "    }\n",
       "\n",
       "    .dataframe thead th {\n",
       "        text-align: right;\n",
       "    }\n",
       "</style>\n",
       "<table border=\"1\" class=\"dataframe\">\n",
       "  <thead>\n",
       "    <tr style=\"text-align: right;\">\n",
       "      <th></th>\n",
       "      <th>US precision</th>\n",
       "      <th>US recall</th>\n",
       "      <th>ROS precision</th>\n",
       "      <th>ROS recall</th>\n",
       "      <th>SMOTE precision</th>\n",
       "      <th>SMOTE recall</th>\n",
       "    </tr>\n",
       "  </thead>\n",
       "  <tbody>\n",
       "    <tr>\n",
       "      <th>NaiveBayes Worst</th>\n",
       "      <td>0.84</td>\n",
       "      <td>0.83</td>\n",
       "      <td>0.95</td>\n",
       "      <td>0.85</td>\n",
       "      <td>0.95</td>\n",
       "      <td>0.85</td>\n",
       "    </tr>\n",
       "    <tr>\n",
       "      <th>NaiveBayes Best</th>\n",
       "      <td>0.84</td>\n",
       "      <td>0.85</td>\n",
       "      <td>0.60</td>\n",
       "      <td>0.83</td>\n",
       "      <td>0.60</td>\n",
       "      <td>0.83</td>\n",
       "    </tr>\n",
       "    <tr>\n",
       "      <th>LogisticRegression Worst</th>\n",
       "      <td>0.85</td>\n",
       "      <td>0.85</td>\n",
       "      <td>0.95</td>\n",
       "      <td>0.87</td>\n",
       "      <td>0.94</td>\n",
       "      <td>0.88</td>\n",
       "    </tr>\n",
       "    <tr>\n",
       "      <th>LogisticRegression Best</th>\n",
       "      <td>0.86</td>\n",
       "      <td>0.86</td>\n",
       "      <td>0.63</td>\n",
       "      <td>0.83</td>\n",
       "      <td>0.65</td>\n",
       "      <td>0.81</td>\n",
       "    </tr>\n",
       "    <tr>\n",
       "      <th>DecisionTreeClassifier Worst</th>\n",
       "      <td>0.70</td>\n",
       "      <td>0.76</td>\n",
       "      <td>0.87</td>\n",
       "      <td>0.85</td>\n",
       "      <td>0.87</td>\n",
       "      <td>0.84</td>\n",
       "    </tr>\n",
       "    <tr>\n",
       "      <th>DecisionTreeClassifier Best</th>\n",
       "      <td>0.75</td>\n",
       "      <td>0.69</td>\n",
       "      <td>0.51</td>\n",
       "      <td>0.54</td>\n",
       "      <td>0.49</td>\n",
       "      <td>0.55</td>\n",
       "    </tr>\n",
       "    <tr>\n",
       "      <th>RandomForestClassifier Worst</th>\n",
       "      <td>0.72</td>\n",
       "      <td>0.83</td>\n",
       "      <td>0.87</td>\n",
       "      <td>0.94</td>\n",
       "      <td>0.86</td>\n",
       "      <td>0.93</td>\n",
       "    </tr>\n",
       "    <tr>\n",
       "      <th>RandomForestClassifier Best</th>\n",
       "      <td>0.81</td>\n",
       "      <td>0.70</td>\n",
       "      <td>0.69</td>\n",
       "      <td>0.49</td>\n",
       "      <td>0.65</td>\n",
       "      <td>0.48</td>\n",
       "    </tr>\n",
       "    <tr>\n",
       "      <th>GradientBoostingClassifier Worst</th>\n",
       "      <td>0.79</td>\n",
       "      <td>0.83</td>\n",
       "      <td>0.93</td>\n",
       "      <td>0.79</td>\n",
       "      <td>0.89</td>\n",
       "      <td>0.92</td>\n",
       "    </tr>\n",
       "    <tr>\n",
       "      <th>GradientBoostingClassifier Best</th>\n",
       "      <td>0.83</td>\n",
       "      <td>0.79</td>\n",
       "      <td>0.51</td>\n",
       "      <td>0.80</td>\n",
       "      <td>0.66</td>\n",
       "      <td>0.58</td>\n",
       "    </tr>\n",
       "  </tbody>\n",
       "</table>\n",
       "</div>"
      ],
      "text/plain": [
       "                                  US precision  US recall  ROS precision  \\\n",
       "NaiveBayes Worst                          0.84       0.83           0.95   \n",
       "NaiveBayes Best                           0.84       0.85           0.60   \n",
       "LogisticRegression Worst                  0.85       0.85           0.95   \n",
       "LogisticRegression Best                   0.86       0.86           0.63   \n",
       "DecisionTreeClassifier Worst              0.70       0.76           0.87   \n",
       "DecisionTreeClassifier Best               0.75       0.69           0.51   \n",
       "RandomForestClassifier Worst              0.72       0.83           0.87   \n",
       "RandomForestClassifier Best               0.81       0.70           0.69   \n",
       "GradientBoostingClassifier Worst          0.79       0.83           0.93   \n",
       "GradientBoostingClassifier Best           0.83       0.79           0.51   \n",
       "\n",
       "                                  ROS recall  SMOTE precision  SMOTE recall  \n",
       "NaiveBayes Worst                        0.85             0.95          0.85  \n",
       "NaiveBayes Best                         0.83             0.60          0.83  \n",
       "LogisticRegression Worst                0.87             0.94          0.88  \n",
       "LogisticRegression Best                 0.83             0.65          0.81  \n",
       "DecisionTreeClassifier Worst            0.85             0.87          0.84  \n",
       "DecisionTreeClassifier Best             0.54             0.49          0.55  \n",
       "RandomForestClassifier Worst            0.94             0.86          0.93  \n",
       "RandomForestClassifier Best             0.49             0.65          0.48  \n",
       "GradientBoostingClassifier Worst        0.79             0.89          0.92  \n",
       "GradientBoostingClassifier Best         0.80             0.66          0.58  "
      ]
     },
     "execution_count": 238,
     "metadata": {},
     "output_type": "execute_result"
    }
   ],
   "source": [
    "test_scoring_df = pd.concat([US,ROS,SMOTE], axis=1)\n",
    "test_scoring_df"
   ]
  },
  {
   "cell_type": "markdown",
   "metadata": {},
   "source": [
    "# Simple Prediction"
   ]
  },
  {
   "cell_type": "code",
   "execution_count": 246,
   "metadata": {},
   "outputs": [],
   "source": [
    "data.reset_index(inplace=True)"
   ]
  },
  {
   "cell_type": "code",
   "execution_count": 249,
   "metadata": {},
   "outputs": [],
   "source": [
    "data.drop(columns='index', inplace=True)"
   ]
  },
  {
   "cell_type": "code",
   "execution_count": 255,
   "metadata": {},
   "outputs": [
    {
     "data": {
      "text/plain": [
       "Int64Index([    0,     7,    15,    20,    21,    27,    35,    36,    40,\n",
       "               43,\n",
       "            ...\n",
       "            23344, 23345, 23349, 23351, 23353, 23356, 23359, 23361, 23366,\n",
       "            23367],\n",
       "           dtype='int64', length=5066)"
      ]
     },
     "execution_count": 255,
     "metadata": {},
     "output_type": "execute_result"
    }
   ],
   "source": [
    "data[data['Rating']==4]['Clean Review'].index"
   ]
  },
  {
   "cell_type": "code",
   "execution_count": 268,
   "metadata": {},
   "outputs": [
    {
     "data": {
      "text/plain": [
       "'I m so impressed with the beautiful color combinations and embroidery but disappointed in the rayon fabric used especially at this price point the sleeveless sheer blue outer dress is a flowy swing silhouette that retains many wrinkles i have thick shoulders and upper arms so the armholes cut into my armpits the silky rayon liner is a blush rose color with adjustable spaghetti straps the slip has no stretch and feels a bit tight on my chest i ordered size medium petite and my stats a'"
      ]
     },
     "execution_count": 268,
     "metadata": {},
     "output_type": "execute_result"
    }
   ],
   "source": [
    "data['Clean Review'].iloc[23367]"
   ]
  },
  {
   "cell_type": "code",
   "execution_count": 269,
   "metadata": {},
   "outputs": [],
   "source": [
    "tes=data['Clean Review'].iloc[23367]"
   ]
  },
  {
   "cell_type": "code",
   "execution_count": 270,
   "metadata": {},
   "outputs": [
    {
     "data": {
      "text/plain": [
       "'Best'"
      ]
     },
     "execution_count": 270,
     "metadata": {},
     "output_type": "execute_result"
    }
   ],
   "source": [
    "tes1 = vectorizer.transform([tes])\n",
    "model_optim=LogisticRegression().fit(X_tr, y_tr)\n",
    "predict_model = model_optim.predict(tes1)[0]\n",
    "predict_model"
   ]
  },
  {
   "cell_type": "markdown",
   "metadata": {},
   "source": [
    "# Pipeline"
   ]
  },
  {
   "cell_type": "code",
   "execution_count": 271,
   "metadata": {},
   "outputs": [],
   "source": [
    "from sklearn.pipeline import Pipeline"
   ]
  },
  {
   "cell_type": "code",
   "execution_count": 272,
   "metadata": {},
   "outputs": [],
   "source": [
    "pipe = Pipeline([\n",
    "    ('cv',TfidfVectorizer()),\n",
    "    ('model',LogisticRegression())\n",
    "])\n"
   ]
  },
  {
   "cell_type": "code",
   "execution_count": 273,
   "metadata": {},
   "outputs": [],
   "source": [
    "from sklearn.model_selection import train_test_split as tts"
   ]
  },
  {
   "cell_type": "code",
   "execution_count": 274,
   "metadata": {},
   "outputs": [],
   "source": [
    "xpipe_tr, xpipe_ts, ypipe_tr, ypipe_ts = tts(undersampling_data['Clean Review'],undersampling_data['Sentiment'],random_state=101)"
   ]
  },
  {
   "cell_type": "code",
   "execution_count": 275,
   "metadata": {},
   "outputs": [
    {
     "data": {
      "text/plain": [
       "Pipeline(memory=None,\n",
       "     steps=[('cv', TfidfVectorizer(analyzer='word', binary=False, decode_error='strict',\n",
       "        dtype=<class 'numpy.float64'>, encoding='utf-8', input='content',\n",
       "        lowercase=True, max_df=1.0, max_features=None, min_df=1,\n",
       "        ngram_range=(1, 1), norm='l2', preprocessor=None, smooth_idf=True,\n",
       "  ...penalty='l2', random_state=None, solver='warn',\n",
       "          tol=0.0001, verbose=0, warm_start=False))])"
      ]
     },
     "execution_count": 275,
     "metadata": {},
     "output_type": "execute_result"
    }
   ],
   "source": [
    "pipe.fit(xpipe_tr, ypipe_tr)"
   ]
  },
  {
   "cell_type": "code",
   "execution_count": 279,
   "metadata": {},
   "outputs": [
    {
     "data": {
      "text/plain": [
       "Int64Index([    2,     5,    10,    14,    16,    22,    23,    25,    26,\n",
       "               33,\n",
       "            ...\n",
       "            23449, 23450, 23452, 23460, 23462, 23475, 23478, 23482, 23483,\n",
       "            23484],\n",
       "           dtype='int64', length=5274)"
      ]
     },
     "execution_count": 279,
     "metadata": {},
     "output_type": "execute_result"
    }
   ],
   "source": [
    "undersampling_data[undersampling_data['Sentiment']=='Worst'].index"
   ]
  },
  {
   "cell_type": "code",
   "execution_count": 281,
   "metadata": {},
   "outputs": [
    {
     "data": {
      "text/plain": [
       "'Best'"
      ]
     },
     "execution_count": 281,
     "metadata": {},
     "output_type": "execute_result"
    }
   ],
   "source": [
    "ypipe_ts.iloc[5]"
   ]
  },
  {
   "cell_type": "code",
   "execution_count": 282,
   "metadata": {},
   "outputs": [
    {
     "data": {
      "text/plain": [
       "'Best'"
      ]
     },
     "execution_count": 282,
     "metadata": {},
     "output_type": "execute_result"
    }
   ],
   "source": [
    "pipe.predict([xpipe_ts.iloc[5]])[0]"
   ]
  },
  {
   "cell_type": "code",
   "execution_count": 283,
   "metadata": {},
   "outputs": [
    {
     "name": "stdout",
     "output_type": "stream",
     "text": [
      "              precision    recall  f1-score   support\n",
      "\n",
      "        Best       0.86      0.85      0.85      1288\n",
      "       Worst       0.86      0.86      0.86      1349\n",
      "\n",
      "   micro avg       0.86      0.86      0.86      2637\n",
      "   macro avg       0.86      0.86      0.86      2637\n",
      "weighted avg       0.86      0.86      0.86      2637\n",
      "\n"
     ]
    }
   ],
   "source": [
    "prediction_=pipe.predict(xpipe_ts)\n",
    "print(classification_report(ypipe_ts,prediction_))"
   ]
  },
  {
   "cell_type": "markdown",
   "metadata": {},
   "source": [
    "# Export CSV"
   ]
  },
  {
   "cell_type": "code",
   "execution_count": 284,
   "metadata": {},
   "outputs": [],
   "source": [
    "import pickle"
   ]
  },
  {
   "cell_type": "code",
   "execution_count": 285,
   "metadata": {},
   "outputs": [],
   "source": [
    "filename = 'pipeline_nlp2.sav'\n",
    "pickle.dump(pipe, open(filename, 'wb'))"
   ]
  },
  {
   "cell_type": "code",
   "execution_count": 286,
   "metadata": {},
   "outputs": [],
   "source": [
    "data.to_csv('womens-clothing-clean-2-done.csv')"
   ]
  },
  {
   "cell_type": "markdown",
   "metadata": {},
   "source": [
    "# Extra"
   ]
  },
  {
   "cell_type": "code",
   "execution_count": null,
   "metadata": {},
   "outputs": [],
   "source": [
    "#Wordcloud\n",
    "from wordcloud import WordCloud"
   ]
  },
  {
   "cell_type": "code",
   "execution_count": null,
   "metadata": {},
   "outputs": [],
   "source": [
    "def show_wordcloud(text):\n",
    "    wc = WordCloud(background_color='white', max_font_size=40, max_words=200)\n",
    "    my_wc = wc.generate(text)\n",
    "    plt.figure(figsize=(25,6))\n",
    "    plt.imshow(my_wc, interpolation='bilinear')\n",
    "    plt.axis('off')\n",
    "    plt.show"
   ]
  },
  {
   "cell_type": "code",
   "execution_count": null,
   "metadata": {},
   "outputs": [],
   "source": [
    "show_wordcloud(' '.join(list(data[data['Sentiment']=='Best']['Without Stop Words'])))"
   ]
  },
  {
   "cell_type": "code",
   "execution_count": null,
   "metadata": {},
   "outputs": [],
   "source": [
    "show_wordcloud(' '.join(list(data[data['Sentiment']=='Worst']['Without Stop Words'])))"
   ]
  }
 ],
 "metadata": {
  "kernelspec": {
   "display_name": "Python 3",
   "language": "python",
   "name": "python3"
  },
  "language_info": {
   "codemirror_mode": {
    "name": "ipython",
    "version": 3
   },
   "file_extension": ".py",
   "mimetype": "text/x-python",
   "name": "python",
   "nbconvert_exporter": "python",
   "pygments_lexer": "ipython3",
   "version": "3.7.3"
  }
 },
 "nbformat": 4,
 "nbformat_minor": 2
}
